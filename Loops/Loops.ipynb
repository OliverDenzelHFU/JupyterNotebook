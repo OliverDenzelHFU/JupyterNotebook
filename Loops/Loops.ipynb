{
  "cells": [
    {
      "metadata": {},
      "cell_type": "markdown",
      "source": [
        "# Initialization, safe to ignore"
      ]
    },
    {
      "metadata": {
        "trusted": true
      },
      "cell_type": "code",
      "source": [
        "%%capture\n",
        "\n",
        "try:\n",
        "    import suntime\n",
        "except:\n",
        "    !pip install suntime\n",
        "    \n",
        "from suntime import Sun\n",
        "from datetime import datetime"
      ],
      "execution_count": 2,
      "outputs": [
        {
          "output_type": "error",
          "ename": "ModuleNotFoundError",
          "evalue": "No module named 'suntime'",
          "traceback": [
            "\u001b[0;31m---------------------------------------------------------------------------\u001b[0m",
            "\u001b[0;31mModuleNotFoundError\u001b[0m                       Traceback (most recent call last)",
            "\u001b[0;32m<ipython-input-2-26a7dbbee60e>\u001b[0m in \u001b[0;36m<module>\u001b[0;34m\u001b[0m\n\u001b[1;32m      4\u001b[0m     \u001b[0mget_ipython\u001b[0m\u001b[0;34m(\u001b[0m\u001b[0;34m)\u001b[0m\u001b[0;34m.\u001b[0m\u001b[0msystem\u001b[0m\u001b[0;34m(\u001b[0m\u001b[0;34m'pip install suntime'\u001b[0m\u001b[0;34m)\u001b[0m\u001b[0;34m\u001b[0m\u001b[0;34m\u001b[0m\u001b[0m\n\u001b[1;32m      5\u001b[0m \u001b[0;34m\u001b[0m\u001b[0m\n\u001b[0;32m----> 6\u001b[0;31m \u001b[0;32mfrom\u001b[0m \u001b[0msuntime\u001b[0m \u001b[0;32mimport\u001b[0m \u001b[0mSun\u001b[0m\u001b[0;34m\u001b[0m\u001b[0;34m\u001b[0m\u001b[0m\n\u001b[0m\u001b[1;32m      7\u001b[0m \u001b[0;32mfrom\u001b[0m \u001b[0mdatetime\u001b[0m \u001b[0;32mimport\u001b[0m \u001b[0mdatetime\u001b[0m\u001b[0;34m\u001b[0m\u001b[0;34m\u001b[0m\u001b[0m\n\u001b[1;32m      8\u001b[0m \u001b[0;34m\u001b[0m\u001b[0m\n",
            "\u001b[0;31mModuleNotFoundError\u001b[0m: No module named 'suntime'"
          ]
        }
      ]
    },
    {
      "cell_type": "code",
      "execution_count": null,
      "metadata": {},
      "outputs": [],
      "source": [
        "# Exercise 1 - change here\n",
        "latitude = 48.0594021\n",
        "longitude = 8.4640869"
      ]
    },
    {
      "metadata": {},
      "cell_type": "markdown",
      "source": [
        "# Conditions\n",
        "With conditions you can execute blocks based on the value of booleans. Normally the booleans are evaluated in place (e.g. variable > 100)\n",
        "\n",
        "An if condition is structured as this `if` **boolean Value**`:`. The commands which are executed have to be indented, either with a **tab** or 4 spaces. After an `if` statement, there can be an `elif` statment (short for else if) for the next conditions or an `else` statement for all other cases."
      ]
    },
    {
      "cell_type": "code",
      "execution_count": 4,
      "metadata": {
        "tags": []
      },
      "outputs": [
        {
          "output_type": "stream",
          "name": "stdout",
          "text": "You should work out more.\n"
        }
      ],
      "source": [
        "stepsTaken = 10\n",
        "if stepsTaken > 10:\n",
        "    print (\"You reached your goal.\")\n",
        "else:\n",
        "    print (\"You should work out more.\")"
      ]
    },
    {
      "cell_type": "markdown",
      "metadata": {},
      "source": [
        "The conditions after the if statement can also contain methods (see a later course), static values (see the 10 above) and variables. They can be comapred e.g. with a =, > or a <."
      ]
    },
    {
      "metadata": {
        "trusted": true,
        "tags": []
      },
      "cell_type": "code",
      "source": [
        "#Get the sun light times for our coordinate\n",
        "sun = Sun(latitude, longitude)\n",
        "sunset = sun.get_local_sunset_time().timestamp()\n",
        "sunrise = sun.get_local_sunrise_time().timestamp()\n",
        "now = datetime.now().timestamp()\n",
        "\n",
        "if now > sunset:\n",
        "    print (\"Have a nice evening!\")\n",
        "#Exercise 2 - Change here\n",
        "elif now < sunrise:\n",
        "    print(\"Good Morning!\")\n",
        "else:\n",
        "    print(\"Have a nice day\")"
      ],
      "execution_count": 3,
      "outputs": [
        {
          "output_type": "stream",
          "name": "stdout",
          "text": "Have a nice evening!\n"
        }
      ]
    },
    {
      "metadata": {},
      "cell_type": "markdown",
      "source": [
        "# Loops\n",
        "## General\n",
        "In python there are two different kind of loops:\n",
        "`for` an `while`\n",
        "With a `for` loop you can execute code for a fixed set of times, whereas the `while` loop allows you to execute your code more flexible.\n",
        "## For Loop"
      ]
    },
    {
      "metadata": {
        "trusted": true,
        "tags": []
      },
      "cell_type": "code",
      "source": [
        "for x in range(5):\n",
        "    print (x)"
      ],
      "execution_count": 4,
      "outputs": [
        {
          "output_type": "stream",
          "name": "stdout",
          "text": "0\n1\n2\n3\n4\n"
        }
      ]
    },
    {
      "metadata": {
        "trusted": true,
        "tags": []
      },
      "cell_type": "code",
      "source": [
        "for c in 'Hello!':\n",
        "    print (c)"
      ],
      "execution_count": 5,
      "outputs": [
        {
          "output_type": "stream",
          "name": "stdout",
          "text": "H\ne\nl\nl\no\n!\n"
        }
      ]
    },
    {
      "metadata": {
        "trusted": true,
        "tags": []
      },
      "cell_type": "code",
      "source": [
        "for x in (0, 10, 21, 33):\n",
        "    print (x)"
      ],
      "execution_count": 6,
      "outputs": [
        {
          "output_type": "stream",
          "name": "stdout",
          "text": "0\n10\n21\n33\n"
        }
      ]
    },
    {
      "cell_type": "code",
      "execution_count": 7,
      "metadata": {
        "tags": []
      },
      "outputs": [
        {
          "output_type": "stream",
          "name": "stdout",
          "text": "DOG\nCAT\nBIRD\n"
        }
      ],
      "source": [
        "for animal in ('dog', 'cat', 'bird'):\n",
        "    print (animal.upper())"
      ]
    },
    {
      "metadata": {},
      "cell_type": "markdown",
      "source": [
        "## While Loop\n",
        "With a while loop your code is executed as long as your condition is `true`. The structure is very similar to an `if` statement."
      ]
    },
    {
      "metadata": {
        "trusted": true,
        "tags": []
      },
      "cell_type": "code",
      "source": [
        "i=0\n",
        "while (i<5):\n",
        "    print (i)\n",
        "    i+=1"
      ],
      "execution_count": 8,
      "outputs": [
        {
          "output_type": "stream",
          "name": "stdout",
          "text": "0\n1\n2\n3\n4\n"
        }
      ]
    },
    {
      "metadata": {},
      "cell_type": "markdown",
      "source": [
        "### Use the while loop for calculation\n",
        "Here we calculate the factorial value = number! ($value = \\prod \\limits _{i=1} ^{number} i$)"
      ]
    },
    {
      "metadata": {
        "trusted": true,
        "tags": []
      },
      "cell_type": "code",
      "source": [
        "value = 1\n",
        "i=1\n",
        "number=11\n",
        "while (i<=number):\n",
        "    value *= i #same as: value=value*i\n",
        "    i+=1 #short for: i=i+1\n",
        "print (\"The factorial of \" + str(number) + \" is \" + str(value))"
      ],
      "execution_count": 9,
      "outputs": [
        {
          "output_type": "stream",
          "name": "stdout",
          "text": "The factorial of 11 is 39916800\n"
        }
      ]
    },
    {
      "cell_type": "markdown",
      "metadata": {},
      "source": [
        "### Use the while loop for fincancial calculations\n",
        "How long do we have to wait until 100 Euros get 200 Euros when you have an interest rate of 2%?"
      ]
    },
    {
      "cell_type": "code",
      "execution_count": 10,
      "metadata": {
        "tags": []
      },
      "outputs": [
        {
          "output_type": "stream",
          "name": "stdout",
          "text": "It takes 36  to get to  203.98873437157042  Euros with an interest rate of  0.02\n"
        }
      ],
      "source": [
        "account = 100\n",
        "interest = 0.02\n",
        "years = 0\n",
        "while account < 200:\n",
        "    account = account + account * interest\n",
        "    years+=1\n",
        "print ('It takes', years, ' to get to ', account, ' Euros with an interest rate of ', interest)"
      ]
    },
    {
      "cell_type": "markdown",
      "metadata": {},
      "source": [
        "### Generate drawings\n",
        "Using loops you can e.g. generate simple \"drawings\" using charaters."
      ]
    },
    {
      "cell_type": "code",
      "execution_count": 5,
      "metadata": {
        "tags": []
      },
      "outputs": [
        {
          "output_type": "stream",
          "name": "stdout",
          "text": "*  *\n*   *\n*    *\n*     *\n*      *\n"
        }
      ],
      "source": [
        "#Pattern - triangle\n",
        "for i in range (5):\n",
        "    print('*',' '*i,'*')"
      ]
    },
    {
      "cell_type": "code",
      "execution_count": 13,
      "metadata": {
        "tags": []
      },
      "outputs": [
        {
          "output_type": "stream",
          "name": "stdout",
          "text": "6\n66\n666\n6666\n66666\n666666\n66666\n6666\n666\n66\n7\n77\n777\n7777\n77777\n777777\n7777777\n777777\n77777\n7777\n777\n77\n"
        }
      ],
      "source": [
        "for i in range(5,7):\n",
        "    for j in range(i):\n",
        "        print (str(i+1)*(j+1))\n",
        "    for j in range(i,0,-1):\n",
        "        print (str(i+1)*(j+1))"
      ]
    },
    {
      "cell_type": "code",
      "execution_count": 38,
      "metadata": {
        "tags": []
      },
      "outputs": [
        {
          "output_type": "stream",
          "name": "stdout",
          "text": "+----------+\n|          |\n|          |\n|          |\n|          |\n|          |\n|          |\n|          |\n+----------+\n👍\n"
        }
      ],
      "source": [
        "width = 10\n",
        "height = 7\n",
        "print ('+'+'-'*width+'+')\n",
        "for i in range(height):\n",
        "    print('|'+' '*width+'|')\n",
        "print ('+'+'-'*width+'+')\n",
        "print('\\U0001F44D')"
      ]
    },
    {
      "cell_type": "markdown",
      "metadata": {},
      "source": [
        "## Pitfall\n",
        "A Jupyter notebook is not per se executed only once and completely from top to bottom. \n",
        "\n",
        "**Exercise**: What happens, if you execute the following cells more than once? Only one of them, or both?"
      ]
    },
    {
      "cell_type": "code",
      "execution_count": 18,
      "metadata": {},
      "outputs": [],
      "source": [
        "i=0"
      ]
    },
    {
      "cell_type": "code",
      "execution_count": 33,
      "metadata": {
        "tags": []
      },
      "outputs": [
        {
          "output_type": "stream",
          "name": "stdout",
          "text": "15\n"
        }
      ],
      "source": [
        "i=i+1\n",
        "print (i)"
      ]
    }
  ],
  "metadata": {
    "kernelspec": {
      "name": "python38464bit26ca19d3cc9e464986a11a9d3e4b2f86",
      "display_name": "Python 3.8.4 64-bit",
      "language": "python"
    },
    "language_info": {
      "mimetype": "text/x-python",
      "nbconvert_exporter": "python",
      "name": "python",
      "pygments_lexer": "ipython3",
      "version": "3.8.4-final",
      "file_extension": ".py",
      "codemirror_mode": {
        "version": 3,
        "name": "ipython"
      }
    }
  },
  "nbformat": 4,
  "nbformat_minor": 2
}