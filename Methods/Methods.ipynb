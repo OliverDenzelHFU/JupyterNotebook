{
  "cells": [
    {
      "metadata": {},
      "cell_type": "markdown",
      "source": [
        "# Initialization Code\n",
        "This code can be ignored"
      ]
    },
    {
      "metadata": {
        "trusted": true
      },
      "cell_type": "code",
      "source": [
        "import numpy as np\n",
        "import matplotlib.pyplot as plt\n",
        "import math\n",
        "from ipywidgets import interact\n",
        "import ipywidgets as widgets\n",
        "import random\n",
        "import timeit\n",
        "import time\n",
        "from datetime import datetime\n",
        "%matplotlib widget\n",
        "def plot(xstart = 0.0, xend = 2.0):\n",
        "    x = np.arange(xstart,xend,0.01)\n",
        "    f2 = np.vectorize(f)\n",
        "    y = f2(x)\n",
        "    plt.plot(x,y)"
      ],
      "execution_count": 116,
      "outputs": []
    },
    {
      "metadata": {},
      "cell_type": "markdown",
      "source": [
        "# Simple function call\n",
        "print is a simple function which takes parameters and returns nothing."
      ]
    },
    {
      "metadata": {
        "trusted": true,
        "tags": []
      },
      "cell_type": "code",
      "source": [
        "print (\"Hello World\")"
      ],
      "execution_count": 51,
      "outputs": [
        {
          "output_type": "stream",
          "name": "stdout",
          "text": "Hello World\n"
        }
      ]
    },
    {
      "metadata": {},
      "cell_type": "markdown",
      "source": [
        "# Function calls with parameters\n",
        "\n",
        "## No parameters\n",
        "If a function has no parameters, normally it's return value is relevant, or it has a side effect. A side effect here is, that it changes the state of some different thing. An example could be `sys.exit()` which stops the current program. [SideEffects](https://runestone.academy/runestone/books/published/fopp/Functions/SideEffects.html)\n",
        "\n",
        "\n"
      ]
    },
    {
      "cell_type": "code",
      "execution_count": 112,
      "metadata": {
        "tags": []
      },
      "outputs": [
        {
          "output_type": "stream",
          "name": "stdout",
          "text": "\n"
        }
      ],
      "source": [
        "s = input()\n",
        "print (2*s)"
      ]
    },
    {
      "cell_type": "markdown",
      "metadata": {},
      "source": [
        "## One parameter\n",
        "When you call a function with parameters, you put those inside brakets (Like you already did with `print`). One example is the function `time.sleep` which lets python wait for a number of seconds."
      ]
    },
    {
      "cell_type": "code",
      "execution_count": 114,
      "metadata": {
        "tags": []
      },
      "outputs": [
        {
          "output_type": "stream",
          "name": "stdout",
          "text": "Wait for it\nParty!\n"
        }
      ],
      "source": [
        "print (\"Wait for it\")\n",
        "time.sleep(1)\n",
        "print (\"Party!\")"
      ]
    },
    {
      "cell_type": "markdown",
      "metadata": {},
      "source": [
        "## Two parameters\n",
        "\n",
        "`pow` is a function which takes two parameters and returns one value ($x ^ y$). Similar functions with two parameters: `complex`, `max`, `min`. [Documentation for functions](https://docs.python.org/3/library/functions.html)"
      ]
    },
    {
      "metadata": {
        "trusted": true,
        "tags": []
      },
      "cell_type": "code",
      "source": [
        "print (pow(5,3))"
      ],
      "execution_count": 53,
      "outputs": [
        {
          "output_type": "stream",
          "name": "stdout",
          "text": "125\n"
        }
      ]
    },
    {
      "cell_type": "markdown",
      "metadata": {},
      "source": [
        "## Nesting Function Calls\n",
        "You are able to nest function calls. This means, that the result of one function is the parameter of the next function. In math this corresponds to e.g. $sin(x)^2$, or you can imagine the russian dolls (matryoshka)."
      ]
    },
    {
      "cell_type": "code",
      "execution_count": 65,
      "metadata": {
        "tags": []
      },
      "outputs": [
        {
          "output_type": "stream",
          "name": "stdout",
          "text": "125\n"
        }
      ],
      "source": [
        "print (abs(pow(5,3)))"
      ]
    },
    {
      "cell_type": "markdown",
      "metadata": {},
      "source": [
        "## Exercise\n",
        "1. Test the functions abs, ascii, hex, min, max and round. For this, copy the following line, and test out different values.\n",
        "2. How would you print out the first 20 squares without programming every line? Add this code below all of the other lines."
      ]
    },
    {
      "cell_type": "code",
      "execution_count": 67,
      "metadata": {
        "tags": []
      },
      "outputs": [
        {
          "output_type": "stream",
          "name": "stdout",
          "text": "Square of 1 1 Square of 2 4\n"
        }
      ],
      "source": [
        "print (\"Square of 1\", pow(1,2), \"Square of 2\", pow(2,2))"
      ]
    },
    {
      "cell_type": "markdown",
      "metadata": {},
      "source": [
        "# The Math Object\n",
        "You can access more functions using the math object. [Documentation for math](https://docs.python.org/3/library/math.html)\n",
        "\n",
        "## Exercise\n",
        "1. Test out `math.trunc`, `math.exp`, `math.sqrt`, `math.sin` and `math.radians`.\n",
        "2. Nest the function calls of `math.sin` and `math.radians` to calulate the sine of 90°. Save the result to a variable called 'sineResult' and print it.\n",
        "3. Use a `for` loop to calculate the cosine values of 0°, 90°, 180° and 360°. If unsure have a look at the loops examples. Format using '\\t'."
      ]
    },
    {
      "cell_type": "code",
      "execution_count": 69,
      "metadata": {
        "tags": []
      },
      "outputs": [
        {
          "output_type": "stream",
          "name": "stdout",
          "text": "24\n"
        }
      ],
      "source": [
        "print (math.factorial(4))"
      ]
    },
    {
      "cell_type": "markdown",
      "metadata": {},
      "source": [
        "# The random Object\n",
        "Using the random object (https://docs.python.org/3/library/random.html) you can incorporate random values into your program. `random.random()` returns a numer in the range of $[0,1[$, `random.uniform(a,b)` has the limits of a and b."
      ]
    },
    {
      "cell_type": "code",
      "execution_count": 85,
      "metadata": {
        "tags": []
      },
      "outputs": [
        {
          "output_type": "stream",
          "name": "stdout",
          "text": "0.5662005378936223\n5.17056797764733\n"
        }
      ],
      "source": [
        "print (random.random())\n",
        "print (random.uniform(5,10))"
      ]
    },
    {
      "cell_type": "markdown",
      "metadata": {},
      "source": [
        "# The datetime Object & Call Chaining\n",
        "Using the datetime Object you can manipulate dates and times in python. Just be sure not to mess with the space time continuum. [Documentation](https://docs.python.org/3/library/datetime.html)\n",
        "\n",
        "If the result of a function call itself provides functions, you can chain these calls (line 2 ff).\n",
        "\n",
        "## Exercise\n",
        "Put all of this code below the code block.\n",
        "\n",
        "1. Create a variable `breakfastBirthday` for the day of your next birthday at 08:45\n",
        "2. Output how long you have to wait until your breakfast on your birthday.\n",
        "3. Use a for loop to print the time remaining and wait a second. Run the loop 10 times."
      ]
    },
    {
      "cell_type": "code",
      "execution_count": 110,
      "metadata": {
        "tags": []
      },
      "outputs": [
        {
          "output_type": "stream",
          "name": "stdout",
          "text": "2021-11-10 22:53:13.253569\n2021-11-10\n10\n2021-12-31 23:59:59.253998\nTime remaining:  51 days, 1:06:45.999898\n"
        }
      ],
      "source": [
        "print (datetime.now())\n",
        "print (datetime.now().date())\n",
        "print (datetime.now().date().day)\n",
        "duedate = datetime.now().replace(month=12,day=31, hour=23, minute=59, second=59)\n",
        "print (duedate)\n",
        "print (\"Time remaining: \", duedate-datetime.now())"
      ]
    },
    {
      "metadata": {},
      "cell_type": "markdown",
      "source": [
        "# Interactive functions\n",
        "Interactive functions\n",
        "The `math` object contains more functions you can use for your calculations. Here you find e.g. trigonometric functions. The `interact` function executes another function and shows all of the parameters as input controls (e.g. sliders)."
      ]
    },
    {
      "metadata": {
        "trusted": true
      },
      "cell_type": "code",
      "source": [
        "def f(x):\n",
        "    return abs(math.sin(x))\n",
        "interact(plot)"
      ],
      "execution_count": 118,
      "outputs": [
        {
          "output_type": "execute_result",
          "data": {
            "text/plain": "<function __main__.plot(xstart=0.0, xend=2.0)>"
          },
          "metadata": {},
          "execution_count": 118
        }
      ]
    },
    {
      "metadata": {},
      "cell_type": "markdown",
      "source": [
        "# Recursive functions\n",
        "Recursive functions are functions which call themselves. So ideally you have a starting point with a simple result, and a way to break down a complicated calculation to a more simple one. The factorial of n is $1 * 2 * ... * n$. In mathematics it is written as $ n! $."
      ]
    },
    {
      "metadata": {
        "trusted": true
      },
      "cell_type": "code",
      "source": [
        "def fac(x):\n",
        "    if (x == 0):\n",
        "        return 1\n",
        "    else:\n",
        "        return fac(x-1)*x\n",
        "\n",
        "fac(10)    \n",
        "#fac(100000)"
      ],
      "execution_count": 57,
      "outputs": [
        {
          "output_type": "execute_result",
          "data": {
            "text/plain": "3628800"
          },
          "metadata": {},
          "execution_count": 57
        }
      ]
    },
    {
      "metadata": {},
      "cell_type": "markdown",
      "source": [
        "# List functions\n",
        "List functions\n",
        "Examples for functions `len`, `sorted`. Random is an object which provides you with different methods concerning random numbers, values and so on."
      ]
    },
    {
      "metadata": {
        "trusted": true
      },
      "cell_type": "code",
      "source": [
        "def lotto():\n",
        "        numbers = []\n",
        "        while (len(numbers) < 6):\n",
        "            newNumber = random.randint(1,46)\n",
        "            if (newNumber not in numbers):\n",
        "                numbers.append(newNumber)\n",
        "        return sorted(numbers)\n",
        "            \n",
        "lotto()"
      ],
      "execution_count": 58,
      "outputs": [
        {
          "output_type": "execute_result",
          "data": {
            "text/plain": "[7, 9, 21, 27, 31, 44]"
          },
          "metadata": {},
          "execution_count": 58
        }
      ]
    },
    {
      "metadata": {},
      "cell_type": "markdown",
      "source": [
        "## Different implementation\n",
        "`random.choices` chooses `k` elements of the range. `sorted` works same as above."
      ]
    },
    {
      "metadata": {
        "trusted": true
      },
      "cell_type": "code",
      "source": [
        "def lottoAlt():\n",
        "    numbers = random.choices(range(46),k=6)\n",
        "    return (sorted(numbers))\n",
        "lottoAlt()"
      ],
      "execution_count": 59,
      "outputs": [
        {
          "output_type": "execute_result",
          "data": {
            "text/plain": "[3, 24, 29, 29, 36, 45]"
          },
          "metadata": {},
          "execution_count": 59
        }
      ]
    },
    {
      "metadata": {},
      "cell_type": "markdown",
      "source": [
        "## Different implementation 2\n",
        "`list()` makes the range changeable\n",
        "`random.shuffle` shuffles the elements of `numbers`\n",
        "`numbers[:6]` cuts off all the elements after the 6."
      ]
    },
    {
      "metadata": {
        "trusted": true
      },
      "cell_type": "code",
      "source": [
        "def lottoAlt2():\n",
        "    numbers = list(range(46))\n",
        "    random.shuffle(numbers)\n",
        "    numbersResult = numbers[:6]\n",
        "    return (sorted(numbersResult))\n",
        "lottoAlt2()"
      ],
      "execution_count": 60,
      "outputs": [
        {
          "output_type": "execute_result",
          "data": {
            "text/plain": "[7, 20, 25, 38, 42, 44]"
          },
          "metadata": {},
          "execution_count": 60
        }
      ]
    },
    {
      "metadata": {},
      "cell_type": "markdown",
      "source": [
        "## Different implementation 3\n",
        "Precache the generation of the 46 numbers. Possible performance win?"
      ]
    },
    {
      "metadata": {
        "trusted": true
      },
      "cell_type": "code",
      "source": [
        "numbers46 = range(46)\n",
        "def lottoAlt3():\n",
        "    numbers = list(numbers46)\n",
        "    random.shuffle(numbers)\n",
        "    numbersResult= numbers[:6]\n",
        "    return (sorted(numbersResult))\n",
        "lottoAlt3()"
      ],
      "execution_count": 61,
      "outputs": [
        {
          "output_type": "execute_result",
          "data": {
            "text/plain": "[24, 27, 29, 33, 40, 42]"
          },
          "metadata": {},
          "execution_count": 61
        }
      ]
    },
    {
      "cell_type": "code",
      "execution_count": 62,
      "metadata": {},
      "outputs": [
        {
          "output_type": "execute_result",
          "data": {
            "text/plain": "(7.63321545800045, 2.615746520000357, 26.160476517999996, 26.117068432999986)"
          },
          "metadata": {},
          "execution_count": 62
        }
      ],
      "source": [
        "timeit.timeit(lotto),timeit.timeit(lottoAlt),timeit.timeit(lottoAlt2),timeit.timeit(lottoAlt3)"
      ]
    }
  ],
  "metadata": {
    "kernelspec": {
      "name": "python3",
      "display_name": "Python 3",
      "language": "python"
    },
    "language_info": {
      "mimetype": "text/x-python",
      "nbconvert_exporter": "python",
      "name": "python",
      "pygments_lexer": "ipython3",
      "version": "3.8.4-final",
      "file_extension": ".py",
      "codemirror_mode": {
        "version": 3,
        "name": "ipython"
      }
    }
  },
  "nbformat": 4,
  "nbformat_minor": 2
}